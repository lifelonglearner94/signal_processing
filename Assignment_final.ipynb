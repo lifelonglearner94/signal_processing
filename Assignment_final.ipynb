{
 "cells": [
  {
   "cell_type": "markdown",
   "metadata": {},
   "source": [
    "## Imports"
   ]
  },
  {
   "cell_type": "code",
   "execution_count": 2,
   "metadata": {},
   "outputs": [],
   "source": [
    "import numpy as np\n",
    "from scipy import signal\n",
    "import matplotlib.pyplot as plt\n",
    "from helper_functions import *"
   ]
  },
  {
   "cell_type": "markdown",
   "metadata": {},
   "source": [
    "## Loading data"
   ]
  },
  {
   "cell_type": "code",
   "execution_count": null,
   "metadata": {},
   "outputs": [],
   "source": [
    "data_folder = \"raw_data\"\n",
    "\n",
    "first_ecg = np.load(data_folder + \"/first_ecg.npy\")\n",
    "first_ppg = np.load(data_folder + \"/first_ppg.npy\")\n",
    "\n",
    "second_ecg = np.load(data_folder + \"/second_ecg.npy\")\n",
    "second_ppg = np.load(data_folder + \"/second_ppg.npy\")\n",
    "\n",
    "third_ecg = np.load(data_folder + \"/third_ecg.npy\")\n",
    "third_ppg = np.load(data_folder + \"/third_ppg.npy\")"
   ]
  },
  {
   "cell_type": "markdown",
   "metadata": {},
   "source": [
    "## 1. Sampling frequencies"
   ]
  },
  {
   "cell_type": "code",
   "execution_count": null,
   "metadata": {},
   "outputs": [],
   "source": [
    "first_ecg_ma_detrended = simple_ma_detrending(first_ecg)\n",
    "first_ppg_ma_detrended = simple_ma_detrending(first_ppg)\n",
    "\n",
    "second_ecg_ma_detrended = simple_ma_detrending(second_ecg)\n",
    "second_ppg_ma_detrended = simple_ma_detrending(second_ppg)\n",
    "\n",
    "third_ecg_ma_detrended = simple_ma_detrending(third_ecg)\n",
    "third_ppg_ma_detrended = simple_ma_detrending(third_ppg)\n"
   ]
  },
  {
   "cell_type": "code",
   "execution_count": null,
   "metadata": {},
   "outputs": [],
   "source": [
    "first_ecg_freq = find_frequency(first_ecg_ma_detrended, threshold)"
   ]
  }
 ],
 "metadata": {
  "kernelspec": {
   "display_name": "lewagon",
   "language": "python",
   "name": "python3"
  },
  "language_info": {
   "codemirror_mode": {
    "name": "ipython",
    "version": 3
   },
   "file_extension": ".py",
   "mimetype": "text/x-python",
   "name": "python",
   "nbconvert_exporter": "python",
   "pygments_lexer": "ipython3",
   "version": "3.10.6"
  }
 },
 "nbformat": 4,
 "nbformat_minor": 2
}
